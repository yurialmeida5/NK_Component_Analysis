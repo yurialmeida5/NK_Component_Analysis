{
 "cells": [
  {
   "cell_type": "markdown",
   "metadata": {},
   "source": [
    "# Task 3 - Deliveries Confirmed"
   ]
  },
  {
   "cell_type": "code",
   "execution_count": 1,
   "metadata": {},
   "outputs": [],
   "source": [
    "# Load necessay packages\n",
    "import pandas as pd \n",
    "import seaborn as sb\n",
    "import numpy as np"
   ]
  },
  {
   "cell_type": "code",
   "execution_count": 9,
   "metadata": {},
   "outputs": [],
   "source": [
    "def load_and_clean_data(excel_path):\n",
    "    results_db = {}\n",
    "    excel_dict = pd.read_excel(excel_path, sheet_name=None)\n",
    "    file_names = list(excel_dict.keys())\n",
    "    # This is actually what I wanted to do in the first place but for some reason my debugger was really bad, and I couldn't find why I wasn't able to interate with the dict.values.\n",
    "    # And I didn't have much time - busy week, sorry :/ \n",
    "    ##### excel_dict = pd.read_excel(excel_path, sheet_name=None)\n",
    "    ##### file_names = list(excel_dict.keys())\n",
    "    ##### file_values = list(excel_dict.values())\n",
    "    ##### for file_name in file_names:\n",
    "    #####    for file_value in file_values:\n",
    "    for file_name in file_names:\n",
    "        file_value = pd.read_excel(excel_path, sheet_name=file_name)\n",
    "        # Data Preparation \n",
    "        # Retrive supplier names\n",
    "        supplier_names = file_value['TOTAL'].dropna().tolist()\n",
    "        supplier_names.remove('SUM')\n",
    "        # Retrieve production Backlog\n",
    "        production_backlog = file_value['Unnamed: 3'][0]\n",
    "        stock_at_hand = file_value['Unnamed: 3'][1]\n",
    "        # Remove unecessary columns \n",
    "        file_value.drop(file_value.columns[[0,1,2,3]], inplace=True, axis=1)\n",
    "        # Transpose table\n",
    "        file_value = file_value.T.reset_index(drop=True)\n",
    "        # Get when the supply rows starts being 0 \n",
    "        for column_number in np.arange(1,len(file_value.columns)):\n",
    "            inital_row = file_value[column_number].astype(float).sum() != 0\n",
    "            if inital_row == False:\n",
    "                break\n",
    "        # Drop columns \n",
    "        file_value.drop(np.arange(column_number,len(file_value.columns)), inplace=True, axis=1)\n",
    "        # Rename columns\n",
    "        column_names = ['Date', 'Date_Code', 'Demand']\n",
    "        column_names.extend(supplier_names)\n",
    "        file_value.columns = column_names\n",
    "        # Create Column Confirm Deliveries\n",
    "        file_value['confirmed_deliveres'] = file_value[supplier_names].sum(axis=1)\n",
    "        # Create column material balance\n",
    "        file_value['material_balance'] = np.NaN\n",
    "        # Initial_Value\n",
    "        file_value['material_balance'][0] = stock_at_hand - production_backlog - file_value['Demand'][0]\n",
    "        # Generate the rest of the values\n",
    "        for row_number in np.arange(1, len(file_value)):\n",
    "            file_value.loc[row_number, 'material_balance'] = file_value.loc[row_number-1, 'confirmed_deliveres'] + file_value.loc[row_number-1, 'material_balance'] - file_value.loc[row_number, 'Demand']\n",
    "        results_db[file_name] = file_value\n",
    "    return results_db  "
   ]
  },
  {
   "cell_type": "code",
   "execution_count": null,
   "metadata": {},
   "outputs": [],
   "source": [
    "# Generate Data\n",
    "\n",
    "excel_path = 'C:\\\\Users\\\\Yuri_Almeida\\\\Desktop\\\\NOKIA_ANALYSIS\\\\Task3\\\\Task_3.xlsx'\n",
    "results = load_and_clean_data(excel_path)\n",
    "\n",
    "\n",
    "# Generate dataset - How many confirmed deliveries do we have in each supplier in all period? \n",
    "not_consider_columns = ['Date', 'Date_Code', 'Demand', 'confirmed_deliveres', 'material_balance']\n",
    "\n",
    "non_zero_count = []\n",
    "component_list = []\n",
    "supplier_list = []\n",
    "confirm_deliver = pd.DataFrame()\n",
    "\n",
    "for component in results.keys():\n",
    "    table_columns = list(set(list(results[component].columns)) - set(not_consider_columns))\n",
    "    for supplier in table_columns:\n",
    "        non_zero_count.append(np.count_nonzero(results[component][supplier]))\n",
    "        component_list.append(component)\n",
    "        supplier_list.append(supplier)\n",
    "\n",
    "confirm_deliver['component'] = component_list\n",
    "confirm_deliver['supplier'] = supplier_list\n",
    "confirm_deliver['qtd_deliver'] = non_zero_count"
   ]
  },
  {
   "cell_type": "markdown",
   "metadata": {},
   "source": [
    "# Graph Display"
   ]
  },
  {
   "cell_type": "code",
   "execution_count": 53,
   "metadata": {},
   "outputs": [
    {
     "data": {
      "text/plain": [
       "<AxesSubplot:xlabel='supplier', ylabel='qtd_deliver'>"
      ]
     },
     "execution_count": 53,
     "metadata": {},
     "output_type": "execute_result"
    },
    {
     "data": {
      "image/png": "[encoded data removed]",
      "text/plain": [
       "<Figure size 864x360 with 1 Axes>"
      ]
     },
     "metadata": {
      "needs_background": "light"
     },
     "output_type": "display_data"
    }
   ],
   "source": [
    "import seaborn as sb\n",
    "import matplotlib.pyplot as plt\n",
    "FIGURE_FIGSIZE = (12,5)\n",
    "fig = plt.subplots(figsize = FIGURE_FIGSIZE)\n",
    "\n",
    "sb.barplot(data = confirm_deliver, x = 'supplier', y = 'qtd_deliver', hue ='component')"
   ]
  }
 ],
 "metadata": {
  "interpreter": {
   "hash": "488084d40a93a0db946d9b216d101856200ac9fbd72b11a54a02edd5fb920416"
  },
  "kernelspec": {
   "display_name": "Python 3.8.8 ('base')",
   "language": "python",
   "name": "python3"
  },
  "language_info": {
   "codemirror_mode": {
    "name": "ipython",
    "version": 3
   },
   "file_extension": ".py",
   "mimetype": "text/x-python",
   "name": "python",
   "nbconvert_exporter": "python",
   "pygments_lexer": "ipython3",
   "version": "3.8.8"
  },
  "orig_nbformat": 4
 },
 "nbformat": 4,
 "nbformat_minor": 2
}
